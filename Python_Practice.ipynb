{
 "cells": [
  {
   "cell_type": "code",
   "execution_count": 2,
   "metadata": {},
   "outputs": [
    {
     "name": "stdout",
     "output_type": "stream",
     "text": [
      "Enter the number: 8.9\n",
      "8.9\n"
     ]
    }
   ],
   "source": [
    "import math\n",
    "\n",
    "def Main():\n",
    "    num = float(input(\"Enter the number: \"))\n",
    "    #Fab is used to get the absolute value of a decimal\n",
    "    \n",
    "    num = math.fabs(num)\n",
    "    print(num)\n",
    "if __name__==\"__main__\":\n",
    "    Main()"
   ]
  },
  {
   "cell_type": "code",
   "execution_count": 5,
   "metadata": {},
   "outputs": [
    {
     "name": "stdout",
     "output_type": "stream",
     "text": [
      "7\n"
     ]
    }
   ],
   "source": [
    "#Python program processing \n",
    "#global variabble\n",
    "\n",
    "count = 5\n",
    "def some_method():\n",
    "    count = 6\n",
    "    count = count + 1\n",
    "    print(count)\n",
    "    \n",
    "some_method()"
   ]
  },
  {
   "cell_type": "code",
   "execution_count": 6,
   "metadata": {},
   "outputs": [
    {
     "name": "stdout",
     "output_type": "stream",
     "text": [
      "Loggin on to geeksforgeeks...\n",
      "All set!\n"
     ]
    }
   ],
   "source": [
    "site = 'gfg'\n",
    "\n",
    "if site == \"gfg\":\n",
    "    print('Loggin on to geeksforgeeks...')\n",
    "else:\n",
    "    print(\"retype the URL\")\n",
    "print('All set!')"
   ]
  },
  {
   "cell_type": "code",
   "execution_count": 7,
   "metadata": {},
   "outputs": [
    {
     "name": "stdout",
     "output_type": "stream",
     "text": [
      "1\n",
      "2\n",
      "3\n",
      "4\n",
      "5\n"
     ]
    }
   ],
   "source": [
    "j = 1\n",
    "while(j<=5):\n",
    "    print(j)\n",
    "    j+=1"
   ]
  },
  {
   "cell_type": "code",
   "execution_count": 8,
   "metadata": {},
   "outputs": [
    {
     "name": "stdout",
     "output_type": "stream",
     "text": [
      "[2, 3]\n"
     ]
    }
   ],
   "source": [
    "x = [1,2,3,4,5]\n",
    "\n",
    "print(x[1:3])"
   ]
  },
  {
   "cell_type": "code",
   "execution_count": 10,
   "metadata": {},
   "outputs": [
    {
     "ename": "SyntaxError",
     "evalue": "unexpected character after line continuation character (<ipython-input-10-e52ce2ba7529>, line 2)",
     "output_type": "error",
     "traceback": [
      "\u001b[0;36m  File \u001b[0;32m\"<ipython-input-10-e52ce2ba7529>\"\u001b[0;36m, line \u001b[0;32m2\u001b[0m\n\u001b[0;31m    1 + 2\\\u001b[0m\n\u001b[0m           ^\u001b[0m\n\u001b[0;31mSyntaxError\u001b[0m\u001b[0;31m:\u001b[0m unexpected character after line continuation character\n"
     ]
    }
   ],
   "source": [
    "x = \\\n",
    "    1 + 2\\ \n",
    "    + 5 + 6\n",
    "print(x)"
   ]
  },
  {
   "cell_type": "code",
   "execution_count": 12,
   "metadata": {},
   "outputs": [
    {
     "name": "stdout",
     "output_type": "stream",
     "text": [
      "['False', 'None', 'True', 'and', 'as', 'assert', 'async', 'await', 'break', 'class', 'continue', 'def', 'del', 'elif', 'else', 'except', 'finally', 'for', 'from', 'global', 'if', 'import', 'in', 'is', 'lambda', 'nonlocal', 'not', 'or', 'pass', 'raise', 'return', 'try', 'while', 'with', 'yield']\n"
     ]
    }
   ],
   "source": [
    "import keyword\n",
    "\n",
    "print(keyword.kwlist)"
   ]
  },
  {
   "cell_type": "code",
   "execution_count": 15,
   "metadata": {},
   "outputs": [
    {
     "name": "stdout",
     "output_type": "stream",
     "text": [
      "The value of a is : 5\n"
     ]
    }
   ],
   "source": [
    "a = 5\n",
    "\n",
    "print(\"The value of a is : \" + str(a))"
   ]
  },
  {
   "cell_type": "code",
   "execution_count": 16,
   "metadata": {},
   "outputs": [
    {
     "name": "stdout",
     "output_type": "stream",
     "text": [
      "The value of a is :1\n"
     ]
    }
   ],
   "source": [
    "a = 1 if 20 > 10 else 0\n",
    "print(\"The value of a is :\" + str(a))"
   ]
  },
  {
   "cell_type": "code",
   "execution_count": 19,
   "metadata": {},
   "outputs": [
    {
     "name": "stdout",
     "output_type": "stream",
     "text": [
      "geeks geeksforgeeks\n"
     ]
    }
   ],
   "source": [
    "print(\"geeks\", end = \" \")\n",
    "print(\"geeksforgeeks\")\n",
    "\n",
    "a = [1,2,3,4]\n",
    "\n",
    "#printing a element in same line"
   ]
  },
  {
   "cell_type": "code",
   "execution_count": 20,
   "metadata": {},
   "outputs": [
    {
     "name": "stdout",
     "output_type": "stream",
     "text": [
      "..#....#..\n",
      "..#....#..\n",
      "..#....#.. \n",
      "...#..#...\n",
      "....##....\n",
      "\n",
      "\n",
      "..######..\n",
      "....##....\n",
      "....##.... \n",
      "....##....\n",
      "..######..\n",
      "\n",
      "\n",
      "..######..\n",
      "..#.......\n",
      "..#....... \n",
      "..#.......\n",
      "..######..\n",
      "\n",
      "\n",
      "..#...#...\n",
      "..#..#....\n",
      "..##...... \n",
      "..#..#....\n",
      "..#...#...\n",
      "\n",
      "\n",
      "..#....#..\n",
      "...#..#...\n",
      "....##.... \n",
      "....##....\n",
      "....##....\n",
      "\n",
      "\n"
     ]
    }
   ],
   "source": [
    "# Python3 code to print input in your own font \n",
    "  \n",
    "name = \"VICKY\"\n",
    "  \n",
    "# To take input from User \n",
    "# name = input(\"Enter your name: \\n\\n\") \n",
    "  \n",
    "lngth = len(name) \n",
    "l = \"\" \n",
    "  \n",
    "for x in range(0, lngth): \n",
    "    c = name[x] \n",
    "    c = c.upper() \n",
    "      \n",
    "    if (c == \"A\"): \n",
    "        print(\"..######..\\n..#....#..\\n..######..\", end = \" \") \n",
    "        print(\"\\n..#....#..\\n..#....#..\\n\\n\") \n",
    "          \n",
    "    elif (c == \"B\"): \n",
    "        print(\"..######..\\n..#....#..\\n..#####...\", end = \" \") \n",
    "        print(\"\\n..#....#..\\n..######..\\n\\n\") \n",
    "          \n",
    "    elif (c == \"C\"): \n",
    "        print(\"..######..\\n..#.......\\n..#.......\", end = \" \") \n",
    "        print(\"\\n..#.......\\n..######..\\n\\n\") \n",
    "          \n",
    "    elif (c == \"D\"): \n",
    "        print(\"..#####...\\n..#....#..\\n..#....#..\", end = \" \") \n",
    "        print(\"\\n..#....#..\\n..#####...\\n\\n\") \n",
    "          \n",
    "    elif (c == \"E\"): \n",
    "        print(\"..######..\\n..#.......\\n..#####...\", end = \" \") \n",
    "        print(\"\\n..#.......\\n..######..\\n\\n\") \n",
    "          \n",
    "    elif (c == \"F\"): \n",
    "        print(\"..######..\\n..#.......\\n..#####...\", end = \" \") \n",
    "        print(\"\\n..#.......\\n..#.......\\n\\n\") \n",
    "          \n",
    "    elif (c == \"G\"): \n",
    "        print(\"..######..\\n..#.......\\n..#.####..\", end = \" \") \n",
    "        print(\"\\n..#....#..\\n..#####...\\n\\n\") \n",
    "          \n",
    "    elif (c == \"H\"): \n",
    "        print(\"..#....#..\\n..#....#..\\n..######..\", end = \" \") \n",
    "        print(\"\\n..#....#..\\n..#....#..\\n\\n\") \n",
    "          \n",
    "    elif (c == \"I\"): \n",
    "        print(\"..######..\\n....##....\\n....##....\", end = \" \") \n",
    "        print(\"\\n....##....\\n..######..\\n\\n\") \n",
    "          \n",
    "    elif (c == \"J\"): \n",
    "        print(\"..######..\\n....##....\\n....##....\", end = \" \") \n",
    "        print(\"\\n..#.##....\\n..####....\\n\\n\") \n",
    "          \n",
    "    elif (c == \"K\"): \n",
    "        print(\"..#...#...\\n..#..#....\\n..##......\", end = \" \") \n",
    "        print(\"\\n..#..#....\\n..#...#...\\n\\n\") \n",
    "          \n",
    "    elif (c == \"L\"): \n",
    "        print(\"..#.......\\n..#.......\\n..#.......\", end = \" \") \n",
    "        print(\"\\n..#.......\\n..######..\\n\\n\") \n",
    "          \n",
    "    elif (c == \"M\"): \n",
    "        print(\"..#....#..\\n..##..##..\\n..#.##.#..\", end = \" \") \n",
    "        print(\"\\n..#....#..\\n..#....#..\\n\\n\") \n",
    "          \n",
    "    elif (c == \"N\"): \n",
    "        print(\"..#....#..\\n..##...#..\\n..#.#..#..\", end = \" \") \n",
    "        print(\"\\n..#..#.#..\\n..#...##..\\n\\n\") \n",
    "          \n",
    "    elif (c == \"O\"): \n",
    "        print(\"..######..\\n..#....#..\\n..#....#..\", end = \" \") \n",
    "        print(\"\\n..#....#..\\n..######..\\n\\n\") \n",
    "          \n",
    "    elif (c == \"P\"): \n",
    "        print(\"..######..\\n..#....#..\\n..######..\", end = \" \") \n",
    "        print(\"\\n..#.......\\n..#.......\\n\\n\") \n",
    "          \n",
    "    elif (c == \"Q\"): \n",
    "        print(\"..######..\\n..#....#..\\n..#.#..#..\", end = \" \") \n",
    "        print(\"\\n..#..#.#..\\n..######..\\n\\n\") \n",
    "          \n",
    "    elif (c == \"R\"): \n",
    "        print(\"..######..\\n..#....#..\\n..#.##...\", end = \" \") \n",
    "        print(\"\\n..#...#...\\n..#....#..\\n\\n\") \n",
    "          \n",
    "    elif (c == \"S\"): \n",
    "        print(\"..######..\\n..#.......\\n..######..\", end = \" \") \n",
    "        print(\"\\n.......#..\\n..######..\\n\\n\") \n",
    "          \n",
    "    elif (c == \"T\"): \n",
    "        print(\"..######..\\n....##....\\n....##....\", end = \" \") \n",
    "        print(\"\\n....##....\\n....##....\\n\\n\") \n",
    "          \n",
    "    elif (c == \"U\"): \n",
    "        print(\"..#....#..\\n..#....#..\\n..#....#..\", end = \" \") \n",
    "        print(\"\\n..#....#..\\n..######..\\n\\n\") \n",
    "          \n",
    "    elif (c == \"V\"): \n",
    "        print(\"..#....#..\\n..#....#..\\n..#....#..\", end = \" \") \n",
    "        print(\"\\n...#..#...\\n....##....\\n\\n\") \n",
    "          \n",
    "    elif (c == \"W\"): \n",
    "        print(\"..#....#..\\n..#....#..\\n..#.##.#..\", end = \" \") \n",
    "        print(\"\\n..##..##..\\n..#....#..\\n\\n\") \n",
    "          \n",
    "    elif (c == \"X\"): \n",
    "        print(\"..#....#..\\n...#..#...\\n....##....\", end = \" \") \n",
    "        print(\"\\n...#..#...\\n..#....#..\\n\\n\") \n",
    "          \n",
    "    elif (c == \"Y\"): \n",
    "        print(\"..#....#..\\n...#..#...\\n....##....\", end = \" \") \n",
    "        print(\"\\n....##....\\n....##....\\n\\n\") \n",
    "          \n",
    "    elif (c == \"Z\"): \n",
    "        print(\"..######..\\n......#...\\n.....#....\", end = \" \") \n",
    "        print(\"\\n....#.....\\n..######..\\n\\n\") \n",
    "          \n",
    "    elif (c == \" \"): \n",
    "        print(\"..........\\n..........\\n..........\", end = \" \") \n",
    "        print(\"\\n..........\\n\\n\") \n",
    "          \n",
    "    elif (c == \".\"): \n",
    "        print(\"----..----\\n\\n\") "
   ]
  },
  {
   "cell_type": "code",
   "execution_count": 23,
   "metadata": {},
   "outputs": [
    {
     "name": "stdout",
     "output_type": "stream",
     "text": [
      "Please select operation -\n",
      "1. Add\n",
      "2. Subtract\n",
      "3. Multiply\n",
      "4. Divide\n",
      "\n",
      "Select operation from 1, 2, 3, 4 : 3\n",
      "Enter first number : 4\n",
      "Enter second number : 5\n",
      "4 * 5 = 20\n"
     ]
    }
   ],
   "source": [
    "#Python program for simple calculator\n",
    "\n",
    "def add(num1, num2):\n",
    "    return num1 + num2;\n",
    "\n",
    "def subtract(num1, num2):\n",
    "    return num1 - num2;\n",
    "\n",
    "def multiply(num1, num2):\n",
    "    return num1 * num2\n",
    "\n",
    "def divide(num1, num2):\n",
    "    return num1 / num2\n",
    "\n",
    "print(\"Please select operation -\\n\"\\\n",
    "      \"1. Add\\n\"\\\n",
    "      \"2. Subtract\\n\"\\\n",
    "      \"3. Multiply\\n\"\\\n",
    "      \"4. Divide\\n\"\\\n",
    "      )\n",
    "\n",
    "#Take input from the user\n",
    "\n",
    "select = int(input(\"Select operation from 1, 2, 3, 4 : \"))\n",
    "\n",
    "number_1 = int(input(\"Enter first number : \"))\n",
    "number_2 = int(input(\"Enter second number : \"))\n",
    "\n",
    "if select == 1:\n",
    "    print(number_1, \"+\", number_2, \"=\",\n",
    "          add(number_1, number_2))\n",
    "elif select == 2:\n",
    "    print(number_1, \"-\", number_2, \"=\",\n",
    "          subtract(number_1, number_2))\n",
    "elif select == 3:\n",
    "    print(number_1, \"*\", number_2, \"=\",\n",
    "          multiply(number_1, number_2))\n",
    "elif select == 4:\n",
    "    print(number_1, \"/\", number_2, \"=\",\n",
    "          divide(number_1, number_2))\n",
    "else:\n",
    "    print(\"Invalid input\")"
   ]
  },
  {
   "cell_type": "code",
   "execution_count": null,
   "metadata": {},
   "outputs": [],
   "source": []
  }
 ],
 "metadata": {
  "kernelspec": {
   "display_name": "Python 3",
   "language": "python",
   "name": "python3"
  },
  "language_info": {
   "codemirror_mode": {
    "name": "ipython",
    "version": 3
   },
   "file_extension": ".py",
   "mimetype": "text/x-python",
   "name": "python",
   "nbconvert_exporter": "python",
   "pygments_lexer": "ipython3",
   "version": "3.7.6"
  }
 },
 "nbformat": 4,
 "nbformat_minor": 4
}
